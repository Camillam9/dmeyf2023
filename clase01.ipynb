{
 "cells": [
  {
   "cell_type": "code",
   "execution_count": 1,
   "id": "e7f1b6b2-a412-4ce2-94bb-dd96f73465fb",
   "metadata": {},
   "outputs": [],
   "source": [
    "import duckdb\n",
    "import pandas as pd\n",
    "\n",
    "%load_ext sql\n",
    "%config SqlMagic.autopandas = True\n",
    "%config SqlMagic.feedback = False\n",
    "%config SqlMagic.displaycon = False\n",
    "\n",
    "%sql duckdb:///:default:"
   ]
  },
  {
   "cell_type": "code",
   "execution_count": 2,
   "id": "41d2e8c5-1955-43cd-be69-dd143f49346b",
   "metadata": {},
   "outputs": [
    {
     "data": {
      "text/html": [
       "<div>\n",
       "<style scoped>\n",
       "    .dataframe tbody tr th:only-of-type {\n",
       "        vertical-align: middle;\n",
       "    }\n",
       "\n",
       "    .dataframe tbody tr th {\n",
       "        vertical-align: top;\n",
       "    }\n",
       "\n",
       "    .dataframe thead th {\n",
       "        text-align: right;\n",
       "    }\n",
       "</style>\n",
       "<table border=\"1\" class=\"dataframe\">\n",
       "  <thead>\n",
       "    <tr style=\"text-align: right;\">\n",
       "      <th></th>\n",
       "      <th>Success</th>\n",
       "    </tr>\n",
       "  </thead>\n",
       "  <tbody>\n",
       "  </tbody>\n",
       "</table>\n",
       "</div>"
      ],
      "text/plain": [
       "Empty DataFrame\n",
       "Columns: [Success]\n",
       "Index: []"
      ]
     },
     "execution_count": 2,
     "metadata": {},
     "output_type": "execute_result"
    }
   ],
   "source": [
    "%%sql\n",
    "create or replace table competencia_01 as \n",
    "select \n",
    "    *\n",
    "from read_csv_auto('/Users/camillamassardi/Desktop/DMEyF/datasets/competencia_01_crudo.csv')"
   ]
  },
  {
   "cell_type": "code",
   "execution_count": 3,
   "id": "e3710fb5-2ab9-4126-8cdf-4eeaf2bff3e1",
   "metadata": {},
   "outputs": [
    {
     "data": {
      "text/html": [
       "<div>\n",
       "<style scoped>\n",
       "    .dataframe tbody tr th:only-of-type {\n",
       "        vertical-align: middle;\n",
       "    }\n",
       "\n",
       "    .dataframe tbody tr th {\n",
       "        vertical-align: top;\n",
       "    }\n",
       "\n",
       "    .dataframe thead th {\n",
       "        text-align: right;\n",
       "    }\n",
       "</style>\n",
       "<table border=\"1\" class=\"dataframe\">\n",
       "  <thead>\n",
       "    <tr style=\"text-align: right;\">\n",
       "      <th></th>\n",
       "      <th>column0</th>\n",
       "    </tr>\n",
       "  </thead>\n",
       "  <tbody>\n",
       "    <tr>\n",
       "      <th>0</th>\n",
       "      <td>numero_de_cliente,foto_mes,active_quarter,clie...</td>\n",
       "    </tr>\n",
       "    <tr>\n",
       "      <th>1</th>\n",
       "      <td>29183981,202103,1,0,0,50,197,14468.81,125765.2...</td>\n",
       "    </tr>\n",
       "    <tr>\n",
       "      <th>2</th>\n",
       "      <td>29184630,202103,1,0,0,59,322,11901.57,74158.93...</td>\n",
       "    </tr>\n",
       "    <tr>\n",
       "      <th>3</th>\n",
       "      <td>29185433,202103,1,0,0,68,268,847.15,21672.47,4...</td>\n",
       "    </tr>\n",
       "    <tr>\n",
       "      <th>4</th>\n",
       "      <td>29185587,202103,1,0,0,79,322,4976.94,47735.98,...</td>\n",
       "    </tr>\n",
       "  </tbody>\n",
       "</table>\n",
       "</div>"
      ],
      "text/plain": [
       "                                             column0\n",
       "0  numero_de_cliente,foto_mes,active_quarter,clie...\n",
       "1  29183981,202103,1,0,0,50,197,14468.81,125765.2...\n",
       "2  29184630,202103,1,0,0,59,322,11901.57,74158.93...\n",
       "3  29185433,202103,1,0,0,68,268,847.15,21672.47,4...\n",
       "4  29185587,202103,1,0,0,79,322,4976.94,47735.98,..."
      ]
     },
     "execution_count": 3,
     "metadata": {},
     "output_type": "execute_result"
    }
   ],
   "source": [
    "%sql select * from competencia_01 limit 5"
   ]
  },
  {
   "cell_type": "code",
   "execution_count": null,
   "id": "67840ecd-a8a8-4b01-9909-3ef1fc42d50b",
   "metadata": {},
   "outputs": [],
   "source": []
  },
  {
   "cell_type": "code",
   "execution_count": 5,
   "id": "9a74e611-7da1-4ecb-a3db-6a1a4d9da60a",
   "metadata": {},
   "outputs": [
    {
     "name": "stderr",
     "output_type": "stream",
     "text": [
      "RuntimeError: If using snippets, you may pass the --with argument explicitly.\n",
      "For more details please refer: https://jupysql.ploomber.io/en/latest/compose.html#with-argument\n",
      "\n",
      "\n",
      "Original error message from DB driver:\n",
      "(duckdb.BinderException) Binder Error: Referenced column \"numero_de_cliente\" not found in FROM clause!\n",
      "Candidate bindings: \"competencia_01.column0\"\n",
      "[SQL: CREATE OR REPLACE TABLE competencia_01_n AS\n",
      "WITH max_mes AS (\n",
      "   SELECT numero_de_cliente,\n",
      "          MAX(foto_mes) AS max_foto_mes,\n",
      "          MIN(foto_mes) AS min_foto_mes\n",
      "   FROM competencia_01\n",
      "   GROUP BY numero_de_cliente\n",
      "   )\n",
      "SELECT c.*,\n",
      "      CASE\n",
      "         WHEN m.min_foto_mes = 202103 THEN\n",
      "             CASE \n",
      "                 WHEN m.max_foto_mes = 202103 THEN 'BAJA+1'\n",
      "                 WHEN m.max_foto_mes = 202104 THEN 'BAJA+2'\n",
      "                 WHEN m.max_foto_mes = 202105 THEN 'CONTINUA' \n",
      "             END\n",
      "         WHEN m.min_foto_mes = 202104 THEN\n",
      "             CASE \n",
      "                 WHEN m.max_foto_mes = 202105 THEN 'NA' \n",
      "                 WHEN m.max_foto_mes = 202104 THEN 'BAJA+1' \n",
      "             END\n",
      "         ELSE 'NA'\n",
      "      END AS clase_ternaria\n",
      "FROM competencia_01 c\n",
      "JOIN max_mes m USING (numero_de_cliente);]\n",
      "(Background on this error at: https://sqlalche.me/e/20/f405)\n",
      "\n",
      "If you need help solving this issue, send us a message: https://ploomber.io/community\n"
     ]
    }
   ],
   "source": [
    " %%sql\n",
    "CREATE OR REPLACE TABLE competencia_01_n AS\n",
    "WITH max_mes AS (\n",
    "    SELECT numero_de_cliente,\n",
    "           MAX(foto_mes) AS max_foto_mes,\n",
    "           MIN(foto_mes) AS min_foto_mes\n",
    "    FROM competencia_01\n",
    "    GROUP BY numero_de_cliente\n",
    "    )\n",
    "SELECT c.*,\n",
    "       CASE\n",
    "          WHEN m.min_foto_mes = 202103 THEN\n",
    "              CASE \n",
    "                  WHEN m.max_foto_mes = 202103 THEN 'BAJA+1'\n",
    "                  WHEN m.max_foto_mes = 202104 THEN 'BAJA+2'\n",
    "                  WHEN m.max_foto_mes = 202105 THEN 'CONTINUA' \n",
    "              END\n",
    "          WHEN m.min_foto_mes = 202104 THEN\n",
    "              CASE \n",
    "                  WHEN m.max_foto_mes = 202105 THEN 'NA' \n",
    "                  WHEN m.max_foto_mes = 202104 THEN 'BAJA+1' \n",
    "              END\n",
    "          ELSE 'NA'\n",
    "       END AS clase_ternaria\n",
    "FROM competencia_01 c\n",
    "JOIN max_mes m USING (numero_de_cliente); "
   ]
  },
  {
   "cell_type": "code",
   "execution_count": 4,
   "id": "71098e34-d299-4827-a5d8-d72b5986772c",
   "metadata": {},
   "outputs": [
    {
     "name": "stderr",
     "output_type": "stream",
     "text": [
      "RuntimeError: If using snippets, you may pass the --with argument explicitly.\n",
      "For more details please refer: https://jupysql.ploomber.io/en/latest/compose.html#with-argument\n",
      "\n",
      "\n",
      "Original error message from DB driver:\n",
      "(duckdb.BinderException) Binder Error: Referenced column \"numero_de_cliente\" not found in FROM clause!\n",
      "Candidate bindings: \"competencia_01.column0\"\n",
      "[SQL: CREATE OR REPLACE TABLE competencia_01_n AS\n",
      "WITH max_mes AS (\n",
      "    SELECT numero_de_cliente,\n",
      "           MAX(foto_mes) AS max_foto_mes,\n",
      "           MIN(foto_mes) AS min_foto_mes\n",
      "    FROM competencia_01\n",
      "    GROUP BY numero_de_cliente\n",
      "    )\n",
      "SELECT c.*,\n",
      "       CASE\n",
      "          WHEN m.min_foto_mes = 202103 THEN\n",
      "              CASE \n",
      "                  WHEN m.max_foto_mes = 202103 THEN 'BAJA+1'\n",
      "                  WHEN m.max_foto_mes = 202104 THEN 'BAJA+2'\n",
      "                  WHEN m.max_foto_mes = 202105 THEN 'CONTINUA' \n",
      "              END\n",
      "          WHEN m.min_foto_mes = 202104 THEN\n",
      "              CASE \n",
      "                  WHEN m.max_foto_mes = 202105 THEN 'NA' \n",
      "                  WHEN m.max_foto_mes = 202104 THEN 'BAJA+1' \n",
      "              END\n",
      "          ELSE 'NA'\n",
      "       END AS clase_ternaria\n",
      "FROM competencia_01 c\n",
      "JOIN max_mes m USING (numero_de_cliente);]\n",
      "(Background on this error at: https://sqlalche.me/e/20/f405)\n",
      "\n",
      "If you need help solving this issue, send us a message: https://ploomber.io/community\n"
     ]
    }
   ],
   "source": [
    "%%sql\n",
    "CREATE OR REPLACE TABLE competencia_01_n AS\n",
    "WITH max_mes AS (\n",
    "    SELECT numero_de_cliente,\n",
    "           MAX(foto_mes) AS max_foto_mes,\n",
    "           MIN(foto_mes) AS min_foto_mes\n",
    "    FROM competencia_01\n",
    "    GROUP BY numero_de_cliente\n",
    "    )\n",
    "SELECT c.*,\n",
    "       CASE\n",
    "          WHEN m.min_foto_mes = 202103 THEN\n",
    "              CASE \n",
    "                  WHEN m.max_foto_mes = 202103 THEN 'BAJA+1'\n",
    "                  WHEN m.max_foto_mes = 202104 THEN 'BAJA+2'\n",
    "                  WHEN m.max_foto_mes = 202105 THEN 'CONTINUA' \n",
    "              END\n",
    "          WHEN m.min_foto_mes = 202104 THEN\n",
    "              CASE \n",
    "                  WHEN m.max_foto_mes = 202105 THEN 'NA' \n",
    "                  WHEN m.max_foto_mes = 202104 THEN 'BAJA+1' \n",
    "              END\n",
    "          ELSE 'NA'\n",
    "       END AS clase_ternaria\n",
    "FROM competencia_01 c\n",
    "JOIN max_mes m USING (numero_de_cliente);"
   ]
  },
  {
   "cell_type": "code",
   "execution_count": 20,
   "id": "ac4dd1cd-945e-4761-bb96-1cc21c57c682",
   "metadata": {},
   "outputs": [
    {
     "data": {
      "text/html": [
       "<div>\n",
       "<style scoped>\n",
       "    .dataframe tbody tr th:only-of-type {\n",
       "        vertical-align: middle;\n",
       "    }\n",
       "\n",
       "    .dataframe tbody tr th {\n",
       "        vertical-align: top;\n",
       "    }\n",
       "\n",
       "    .dataframe thead th {\n",
       "        text-align: right;\n",
       "    }\n",
       "</style>\n",
       "<table border=\"1\" class=\"dataframe\">\n",
       "  <thead>\n",
       "    <tr style=\"text-align: right;\">\n",
       "      <th></th>\n",
       "      <th>clase_ternaria</th>\n",
       "      <th>cantidad_clientes</th>\n",
       "    </tr>\n",
       "  </thead>\n",
       "  <tbody>\n",
       "    <tr>\n",
       "      <th>0</th>\n",
       "      <td>CONTINUA</td>\n",
       "      <td>161312</td>\n",
       "    </tr>\n",
       "    <tr>\n",
       "      <th>1</th>\n",
       "      <td>NA</td>\n",
       "      <td>2790</td>\n",
       "    </tr>\n",
       "    <tr>\n",
       "      <th>2</th>\n",
       "      <td>BAJA+2</td>\n",
       "      <td>963</td>\n",
       "    </tr>\n",
       "    <tr>\n",
       "      <th>3</th>\n",
       "      <td>BAJA+1</td>\n",
       "      <td>1055</td>\n",
       "    </tr>\n",
       "  </tbody>\n",
       "</table>\n",
       "</div>"
      ],
      "text/plain": [
       "  clase_ternaria  cantidad_clientes\n",
       "0       CONTINUA             161312\n",
       "1             NA               2790\n",
       "2         BAJA+2                963\n",
       "3         BAJA+1               1055"
      ]
     },
     "execution_count": 20,
     "metadata": {},
     "output_type": "execute_result"
    }
   ],
   "source": [
    "%%sql\n",
    "SELECT clase_ternaria, COUNT(DISTINCT numero_de_cliente) AS cantidad_clientes\n",
    "FROM competencia_01_n\n",
    "GROUP BY clase_ternaria;"
   ]
  },
  {
   "cell_type": "code",
   "execution_count": 21,
   "id": "2f11c66f-82a7-4b34-91c7-43119ae9c659",
   "metadata": {},
   "outputs": [
    {
     "data": {
      "text/html": [
       "<div>\n",
       "<style scoped>\n",
       "    .dataframe tbody tr th:only-of-type {\n",
       "        vertical-align: middle;\n",
       "    }\n",
       "\n",
       "    .dataframe tbody tr th {\n",
       "        vertical-align: top;\n",
       "    }\n",
       "\n",
       "    .dataframe thead th {\n",
       "        text-align: right;\n",
       "    }\n",
       "</style>\n",
       "<table border=\"1\" class=\"dataframe\">\n",
       "  <thead>\n",
       "    <tr style=\"text-align: right;\">\n",
       "      <th></th>\n",
       "      <th>Success</th>\n",
       "    </tr>\n",
       "  </thead>\n",
       "  <tbody>\n",
       "  </tbody>\n",
       "</table>\n",
       "</div>"
      ],
      "text/plain": [
       "Empty DataFrame\n",
       "Columns: [Success]\n",
       "Index: []"
      ]
     },
     "execution_count": 21,
     "metadata": {},
     "output_type": "execute_result"
    }
   ],
   "source": [
    "%%sql\n",
    "COPY competencia_01_n TO 'competencia_01.csv' (HEADER, DELIMITER ',');"
   ]
  },
  {
   "cell_type": "code",
   "execution_count": null,
   "id": "ec7cc0bc-8388-4abf-ae12-2cc1580deb0c",
   "metadata": {},
   "outputs": [],
   "source": []
  }
 ],
 "metadata": {
  "kernelspec": {
   "display_name": "Python 3 (ipykernel)",
   "language": "python",
   "name": "python3"
  },
  "language_info": {
   "codemirror_mode": {
    "name": "ipython",
    "version": 3
   },
   "file_extension": ".py",
   "mimetype": "text/x-python",
   "name": "python",
   "nbconvert_exporter": "python",
   "pygments_lexer": "ipython3",
   "version": "3.11.4"
  }
 },
 "nbformat": 4,
 "nbformat_minor": 5
}
